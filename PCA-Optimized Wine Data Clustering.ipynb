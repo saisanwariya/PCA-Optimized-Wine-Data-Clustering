{
 "cells": [
  {
   "cell_type": "markdown",
   "id": "12ac9917-6590-40ee-abcc-be8af25dfba4",
   "metadata": {},
   "source": [
    "<h1 style=\"text-align:center\">PCA-Optimized Wine Data Clustering: An Advanced Analytical Approach to Viniculture Data Stratification</font></h1>  \n",
    "<h2 style=\"text-align:center\">Sai Sanwariya Narayan</h2>  "
   ]
  },
  {
   "cell_type": "code",
   "execution_count": 1,
   "id": "e5838d1a-7eb2-490d-8b0f-0b50866b0882",
   "metadata": {},
   "outputs": [],
   "source": [
    "from pyspark.sql import SparkSession\n",
    "from pyspark.ml.feature import VectorAssembler, StandardScaler\n",
    "from pyspark.ml.feature import PCA\n",
    "from pyspark.sql.functions import mean\n",
    "import matplotlib.pyplot as plt\n",
    "import random"
   ]
  },
  {
   "cell_type": "code",
   "execution_count": 2,
   "id": "75dc5bad-f9a6-4d72-80ba-c5365006236a",
   "metadata": {},
   "outputs": [],
   "source": [
    "spark = SparkSession.builder.appName(\"PCAExample\").getOrCreate()"
   ]
  },
  {
   "cell_type": "markdown",
   "id": "72676745-e283-41ef-9b7e-352f3c06c366",
   "metadata": {},
   "source": [
    "### Loading the wine clustering data"
   ]
  },
  {
   "cell_type": "code",
   "execution_count": 3,
   "id": "0bbc3e52-b0da-4da9-ab10-ececb4df134a",
   "metadata": {},
   "outputs": [
    {
     "name": "stdout",
     "output_type": "stream",
     "text": [
      "['Alcohol', 'Malic_Acid', 'Ash', 'Ash_Alcanity', 'Magnesium', 'Total_Phenols', 'Flavanoids', 'Nonflavanoid_Phenols', 'Proanthocyanins', 'Color_Intensity', 'Hue', 'OD280', 'Proline']\n"
     ]
    }
   ],
   "source": [
    "df_raw = spark.read.csv(\"/storage/home/ssn5137/Lab10/wine-clustering.csv\",header = True, inferSchema=True)\n",
    "feature_columns = df_raw.columns\n",
    "print(feature_columns)"
   ]
  },
  {
   "cell_type": "markdown",
   "id": "af954a5a-6f45-474d-9e9e-99e9e924cc1e",
   "metadata": {},
   "source": [
    "###  Creating a vector-assembler"
   ]
  },
  {
   "cell_type": "code",
   "execution_count": 4,
   "id": "9bbb0b40-7461-4ff5-bc7a-985ab7b49f33",
   "metadata": {},
   "outputs": [],
   "source": [
    "assembler = VectorAssembler(inputCols=feature_columns, outputCol=\"features\")\n",
    "assembled_data = assembler.transform(df_raw)"
   ]
  },
  {
   "cell_type": "markdown",
   "id": "757eabd4-b6ff-4d95-bc3f-c597022564a5",
   "metadata": {},
   "source": [
    "### Use a StandardScaler to center the data - saved the centered data into a new column called \"scaled_features\""
   ]
  },
  {
   "cell_type": "code",
   "execution_count": 5,
   "id": "d349fa63-8eed-4bda-a360-51585b34e7df",
   "metadata": {},
   "outputs": [],
   "source": [
    "scaler = StandardScaler(inputCol=\"features\", outputCol=\"scaled_features\", withStd=True, withMean=True)\n",
    "scaler_model = scaler.fit(assembled_data)\n",
    "scaled_data = scaler_model.transform(assembled_data)"
   ]
  },
  {
   "cell_type": "markdown",
   "id": "579c439f-280f-40bb-a2cf-e2be1d4af23a",
   "metadata": {},
   "source": [
    "### Print the mean and standard deviation of the centered features"
   ]
  },
  {
   "cell_type": "code",
   "execution_count": 6,
   "id": "036b7aa1-6e0f-4ed9-84a8-da9018f4f840",
   "metadata": {},
   "outputs": [
    {
     "name": "stdout",
     "output_type": "stream",
     "text": [
      "[13.000617977528085,2.336348314606743,2.366516853932584,19.494943820224723,99.74157303370781,2.295112359550562,2.0292696629213474,0.36185393258426946,1.5908988764044947,5.058089882022471,0.9574494382022474,2.6116853932584254,746.8932584269659]\n"
     ]
    }
   ],
   "source": [
    "print(scaler_model.mean)"
   ]
  },
  {
   "cell_type": "code",
   "execution_count": 7,
   "id": "8565b2b0-4b18-42d5-b2a3-de69b2998aa8",
   "metadata": {},
   "outputs": [
    {
     "name": "stdout",
     "output_type": "stream",
     "text": [
      "[0.811826538005858,1.1171460976144625,0.27434400906081485,3.339563767173504,14.282483515295652,0.6258510488339892,0.9988586850169471,0.12445334029667941,0.5723588626747612,2.318285871822413,0.22857156582982327,0.7099904287650503,314.9074742768492]\n"
     ]
    }
   ],
   "source": [
    "print(scaler_model.std)"
   ]
  },
  {
   "cell_type": "markdown",
   "id": "e6f36420-7cce-4c4c-a3b5-ec227ade15d5",
   "metadata": {},
   "source": [
    "### Perform a PCA on the \"scaled_features\" column, and save the transformed features in \"pcaFeatures\". Use 10 principal components."
   ]
  },
  {
   "cell_type": "code",
   "execution_count": 8,
   "id": "867c7549-311a-44af-8ca2-005f5c352354",
   "metadata": {},
   "outputs": [],
   "source": [
    "pca = PCA(k=10, inputCol=\"scaled_features\", outputCol=\"pcaFeatures\")\n",
    "model = pca.fit(scaled_data)\n",
    "result = model.transform(scaled_data)"
   ]
  },
  {
   "cell_type": "markdown",
   "id": "0f2e4662-49c2-4652-ab0b-76d03ca89b87",
   "metadata": {},
   "source": [
    "### Print how much of the explained variance is captured by 10 principal components"
   ]
  },
  {
   "cell_type": "code",
   "execution_count": 9,
   "id": "734c2a38-8a93-44db-ad87-6e32c28844d7",
   "metadata": {},
   "outputs": [
    {
     "name": "stdout",
     "output_type": "stream",
     "text": [
      "Explained Variance:  0.9616971684450641\n"
     ]
    }
   ],
   "source": [
    "explained_variance = model.explainedVariance\n",
    "print(\"Explained Variance: \", sum(explained_variance))"
   ]
  },
  {
   "cell_type": "markdown",
   "id": "87dbe32d-98ab-4ee6-98c2-c3af267d2b54",
   "metadata": {},
   "source": [
    "### Perform a PCA again in such a way that atleast 90% of the variance is computed"
   ]
  },
  {
   "cell_type": "code",
   "execution_count": 10,
   "id": "169451b7-fda6-47e5-ad81-7138365bc7c8",
   "metadata": {},
   "outputs": [
    {
     "name": "stdout",
     "output_type": "stream",
     "text": [
      "Number of principal components covering 90% variance:  8\n"
     ]
    }
   ],
   "source": [
    "variance_covered = 0\n",
    "num_components = 0\n",
    "while variance_covered < 0.9:\n",
    "    num_components += 1\n",
    "    pca = PCA(k=num_components, inputCol=\"scaled_features\", outputCol=\"pcaFeatures\")\n",
    "    model = pca.fit(scaled_data)\n",
    "    variance_covered = sum(model.explainedVariance)\n",
    "result = model.transform(scaled_data)\n",
    "print(\"Number of principal components covering 90% variance: \", num_components)"
   ]
  },
  {
   "cell_type": "code",
   "execution_count": 11,
   "id": "c3c1af7d-045f-4da0-86c9-2fd4a8c918f1",
   "metadata": {},
   "outputs": [],
   "source": [
    "from pyspark.ml.clustering import KMeans\n",
    "from pyspark.ml.evaluation import ClusteringEvaluator"
   ]
  },
  {
   "cell_type": "markdown",
   "id": "ef3b6a1c-e8ad-42c6-ad86-ab0de63275db",
   "metadata": {},
   "source": [
    "### Defining a random function for selecting a color"
   ]
  },
  {
   "cell_type": "code",
   "execution_count": 12,
   "id": "1edad992-3e05-44b1-acb5-b7e76087f2eb",
   "metadata": {},
   "outputs": [],
   "source": [
    "def generate_random_color():\n",
    "    r = random.random()\n",
    "    g = random.random()\n",
    "    b = random.random()\n",
    "    return (r, g, b)"
   ]
  },
  {
   "cell_type": "markdown",
   "id": "de347dc1-b5d6-4e5c-9586-d21aa0cc5084",
   "metadata": {},
   "source": [
    "### Define a Kmeans fit function that can now handle arbitrary columns from an input data frame."
   ]
  },
  {
   "cell_type": "code",
   "execution_count": 13,
   "id": "09f26d0a-ea23-41c3-a403-5889d242fd02",
   "metadata": {},
   "outputs": [],
   "source": [
    "def fit_kmeans(df_input,column_name='pcaFeatures',num_cluster_centers=3):\n",
    "    '''\n",
    "    Requires\n",
    "    df_input: spark dataframe with column name \"features\" having vector of real-valued inputs\n",
    "    num_cluster_centers: integer that tells the algorithm the value of k\n",
    "    column_name: column name (string) that indicates which vector of features to choose\n",
    "    Returns\n",
    "    cluster_data: spark dataframe with predictions\n",
    "    silhouette_score: float with silhouette score\n",
    "    wcss: float within cluster sum of squares\n",
    "    '''\n",
    "    # Create a K-Means instance\n",
    "    kmeans = KMeans(featuresCol=column_name).setK(num_cluster_centers).setSeed(1)\n",
    "    \n",
    "    # Fit the K-Means model to the data\n",
    "    model = kmeans.fit(df_input)\n",
    "       \n",
    "    # Get the cluster assignments for each data point\n",
    "    clustered_data = model.transform(df_input)\n",
    "\n",
    "    # Evaluate the clustering using the ClusteringEvaluator\n",
    "    evaluator = ClusteringEvaluator()\n",
    "    silhouette_score = evaluator.evaluate(clustered_data)\n",
    "\n",
    "    # Print the WCSS (Within-Cluster Sum of Squares)\n",
    "    wcss = model.summary.trainingCost\n",
    "    \n",
    "    # Get the cluster sizes and centers\n",
    "    cluster_sizes = clustered_data.groupBy(\"prediction\").count()\n",
    "    cluster_sizes.show()\n",
    "    \n",
    "    # Return the clustered data\n",
    "    return clustered_data, silhouette_score, wcss"
   ]
  },
  {
   "cell_type": "markdown",
   "id": "20a5a9cd-1ff5-4e0b-8681-6cc971500a15",
   "metadata": {},
   "source": [
    "### Define a visualization function that can color our clusters AND plot the center of the cluster."
   ]
  },
  {
   "cell_type": "code",
   "execution_count": 14,
   "id": "dac03780-be44-4d3d-a5af-733762c30799",
   "metadata": {},
   "outputs": [],
   "source": [
    "# Define a function to perform visualization\n",
    "def visualize_clusters_2D(clustered_data, feature_1, feature_2,  num_cluster_centers=3):\n",
    "    '''\n",
    "    Requires:\n",
    "    clustered_data: dataframe returned from Kmeans fit\n",
    "    num_cluster_centers: integer number of clusters\n",
    "    feature_1: string with identifiers for first column name\n",
    "    feature_2: string with identifiers for second column name\n",
    "    '''\n",
    "    \n",
    "    # Convert the DataFrame to a Pandas DataFrame for visualization\n",
    "    pandas_df = clustered_data.select(feature_1, feature_2, \"prediction\").toPandas()\n",
    "    \n",
    "    # Extract the cluster assignments\n",
    "    cluster_assignments = pandas_df[\"prediction\"]\n",
    "    \n",
    "    # Extract the indices for the cluster center\n",
    "    p1 = feature_columns.index(feature_1)\n",
    "    p2 = feature_columns.index(feature_2)\n",
    "    \n",
    "    # Create a scatter plot for each cluster\n",
    "    for cluster_id in range(num_cluster_centers):\n",
    "        # Generate a random color\n",
    "        random_color = generate_random_color()        \n",
    "        cluster_data = pandas_df[pandas_df[\"prediction\"] == cluster_id]\n",
    "        plt.scatter(cluster_data[feature_1], cluster_data[feature_2], color=[random_color], label=f'Cluster {cluster_id}')\n",
    "        plt.scatter(cluster_data[feature_1].mean(), cluster_data[feature_2].mean(), color=[random_color], marker='x', s=500)\n",
    "    \n",
    "    # Set labels and title\n",
    "    plt.xlabel(feature_1)\n",
    "    plt.ylabel(feature_2)\n",
    "    plt.title(\"K-Means Clustering\")\n",
    "    \n",
    "    # Show the legend\n",
    "    plt.legend()\n",
    "    \n",
    "    # Display the plot\n",
    "    plt.show()"
   ]
  },
  {
   "cell_type": "markdown",
   "id": "b2b380a1-4aec-4ab7-9492-4a822e536be5",
   "metadata": {},
   "source": [
    "### Run a Kmeans fit with 3 clusters using the 'pcaFeatures' column within the 'result' dataframe."
   ]
  },
  {
   "cell_type": "code",
   "execution_count": 15,
   "id": "27a1509a-188a-413d-b302-07ddd6d4a88c",
   "metadata": {},
   "outputs": [
    {
     "name": "stdout",
     "output_type": "stream",
     "text": [
      "+----------+-----+\n",
      "|prediction|count|\n",
      "+----------+-----+\n",
      "|         1|   64|\n",
      "|         2|   51|\n",
      "|         0|   63|\n",
      "+----------+-----+\n",
      "\n"
     ]
    }
   ],
   "source": [
    "num_centers = 3\n",
    "clustered_data, _, _ = fit_kmeans(result,column_name='pcaFeatures',num_cluster_centers=num_centers)"
   ]
  },
  {
   "cell_type": "markdown",
   "id": "627131ee-d994-4866-9ce6-74fab0a46d0b",
   "metadata": {},
   "source": [
    "### Visualize the results of the clustering using pcaFeatures. Pick any two column names for the two axes of the plot (10 points)"
   ]
  },
  {
   "cell_type": "code",
   "execution_count": 16,
   "id": "51184a87-ee51-44eb-8189-1d7bcd25490e",
   "metadata": {},
   "outputs": [
    {
     "data": {
      "image/png": "[encoded data removed]",
      "text/plain": [
       "<Figure size 432x288 with 1 Axes>"
      ]
     },
     "metadata": {
      "needs_background": "light"
     },
     "output_type": "display_data"
    }
   ],
   "source": [
    "# Convert the DataFrame to a Pandas DataFrame for visualization\n",
    "feature_1 = \"Alcohol\"\n",
    "feature_2 = \"Flavanoids\"\n",
    "\n",
    "visualize_clusters_2D(clustered_data, feature_1, feature_2, num_centers)"
   ]
  },
  {
   "cell_type": "markdown",
   "id": "304d423d-4bea-4ce6-9d27-122b3a8bfa12",
   "metadata": {},
   "source": [
    "### Redo the same process but now using the standard 'features' column (similar to Lab 9). Here we will try to compare if the PCA transformed features actually helped with clustering or not (20 points)"
   ]
  },
  {
   "cell_type": "code",
   "execution_count": 17,
   "id": "c85ef125-8056-4848-b80b-748f9d1c830e",
   "metadata": {},
   "outputs": [
    {
     "name": "stdout",
     "output_type": "stream",
     "text": [
      "+----------+-----+\n",
      "|prediction|count|\n",
      "+----------+-----+\n",
      "|         1|   28|\n",
      "|         2|   50|\n",
      "|         0|  100|\n",
      "+----------+-----+\n",
      "\n"
     ]
    },
    {
     "data": {
      "image/png": "[encoded data removed]",
      "text/plain": [
       "<Figure size 432x288 with 1 Axes>"
      ]
     },
     "metadata": {
      "needs_background": "light"
     },
     "output_type": "display_data"
    }
   ],
   "source": [
    "num_centers = 3\n",
    "clustered_data, _, _ = fit_kmeans(result,column_name='features',num_cluster_centers=num_centers)\n",
    "\n",
    "# Convert the DataFrame to a Pandas DataFrame for visualization\n",
    "feature_1 = \"Alcohol\"\n",
    "feature_2 = \"Flavanoids\"\n",
    "\n",
    "visualize_clusters_2D(clustered_data, feature_1, feature_2, num_centers)\n"
   ]
  },
  {
   "cell_type": "markdown",
   "id": "85cd458a-8aa5-41fc-8a0a-85a604c4d3b3",
   "metadata": {},
   "source": [
    "### Which approach to clustering would you prefer? Why?\n",
    "#### Ans: I would prefer clustering with PCA transformed features. It reduces dimensionality, making computations faster and easier, while retaining most of the variance in the data."
   ]
  },
  {
   "cell_type": "markdown",
   "id": "5042825a-f44a-4e42-a7b1-7f28ea7bc5ff",
   "metadata": {},
   "source": [
    "### As in Lab 9 - construct the Elbow and Silhouette curves for the two approaches to clustering. I.e. one using 'pcaFeatures' and the other using 'features'. So you should generate four plots in total. Also comment on what the right value for k must be for the clustering using 'pcaFeatures' (20 points)"
   ]
  },
  {
   "cell_type": "code",
   "execution_count": 18,
   "id": "04668c39-c056-4da6-9ec3-6ef0bef80d36",
   "metadata": {},
   "outputs": [],
   "source": [
    "def calculate_metrics(df_input, column_name, k_values):\n",
    "    silhouette_scores = []\n",
    "    wcss_scores = []\n",
    "\n",
    "    for k in k_values:\n",
    "        clustered_data, silhouette_score, wcss = fit_kmeans(df_input, column_name=column_name, num_cluster_centers=k)\n",
    "        silhouette_scores.append(silhouette_score)\n",
    "        wcss_scores.append(wcss)\n",
    "\n",
    "    return silhouette_scores, wcss_scores"
   ]
  },
  {
   "cell_type": "code",
   "execution_count": 19,
   "id": "e8cfe108-adef-4d61-b493-17babb949201",
   "metadata": {},
   "outputs": [
    {
     "name": "stdout",
     "output_type": "stream",
     "text": [
      "+----------+-----+\n",
      "|prediction|count|\n",
      "+----------+-----+\n",
      "|         1|   91|\n",
      "|         0|   87|\n",
      "+----------+-----+\n",
      "\n",
      "+----------+-----+\n",
      "|prediction|count|\n",
      "+----------+-----+\n",
      "|         1|   64|\n",
      "|         2|   51|\n",
      "|         0|   63|\n",
      "+----------+-----+\n",
      "\n",
      "+----------+-----+\n",
      "|prediction|count|\n",
      "+----------+-----+\n",
      "|         1|   61|\n",
      "|         3|    3|\n",
      "|         2|   51|\n",
      "|         0|   63|\n",
      "+----------+-----+\n",
      "\n",
      "+----------+-----+\n",
      "|prediction|count|\n",
      "+----------+-----+\n",
      "|         1|   57|\n",
      "|         3|   23|\n",
      "|         4|   38|\n",
      "|         2|   50|\n",
      "|         0|   10|\n",
      "+----------+-----+\n",
      "\n",
      "+----------+-----+\n",
      "|prediction|count|\n",
      "+----------+-----+\n",
      "|         1|   27|\n",
      "|         3|   24|\n",
      "|         5|   35|\n",
      "|         4|   23|\n",
      "|         2|   48|\n",
      "|         0|   21|\n",
      "+----------+-----+\n",
      "\n",
      "+----------+-----+\n",
      "|prediction|count|\n",
      "+----------+-----+\n",
      "|         1|   26|\n",
      "|         6|    3|\n",
      "|         3|   34|\n",
      "|         5|   34|\n",
      "|         4|   23|\n",
      "|         2|   49|\n",
      "|         0|    9|\n",
      "+----------+-----+\n",
      "\n",
      "+----------+-----+\n",
      "|prediction|count|\n",
      "+----------+-----+\n",
      "|         1|   40|\n",
      "|         6|   23|\n",
      "|         3|   25|\n",
      "|         5|    1|\n",
      "|         4|   21|\n",
      "|         7|   21|\n",
      "|         2|   31|\n",
      "|         0|   16|\n",
      "+----------+-----+\n",
      "\n",
      "+----------+-----+\n",
      "|prediction|count|\n",
      "+----------+-----+\n",
      "|         1|   19|\n",
      "|         6|    9|\n",
      "|         3|   23|\n",
      "|         5|   38|\n",
      "|         4|   23|\n",
      "|         8|   21|\n",
      "|         7|   10|\n",
      "|         2|   20|\n",
      "|         0|   15|\n",
      "+----------+-----+\n",
      "\n",
      "+----------+-----+\n",
      "|prediction|count|\n",
      "+----------+-----+\n",
      "|         1|   54|\n",
      "|         6|    3|\n",
      "|         3|    7|\n",
      "|         5|    1|\n",
      "|         9|   15|\n",
      "|         4|   34|\n",
      "|         8|   20|\n",
      "|         7|   10|\n",
      "|         2|   12|\n",
      "|         0|   22|\n",
      "+----------+-----+\n",
      "\n",
      "+----------+-----+\n",
      "|prediction|count|\n",
      "+----------+-----+\n",
      "|         1|   55|\n",
      "|         0|  123|\n",
      "+----------+-----+\n",
      "\n",
      "+----------+-----+\n",
      "|prediction|count|\n",
      "+----------+-----+\n",
      "|         1|   28|\n",
      "|         2|   50|\n",
      "|         0|  100|\n",
      "+----------+-----+\n",
      "\n",
      "+----------+-----+\n",
      "|prediction|count|\n",
      "+----------+-----+\n",
      "|         1|   23|\n",
      "|         3|   39|\n",
      "|         2|   59|\n",
      "|         0|   57|\n",
      "+----------+-----+\n",
      "\n",
      "+----------+-----+\n",
      "|prediction|count|\n",
      "+----------+-----+\n",
      "|         1|   23|\n",
      "|         3|   32|\n",
      "|         4|   45|\n",
      "|         2|   50|\n",
      "|         0|   28|\n",
      "+----------+-----+\n",
      "\n",
      "+----------+-----+\n",
      "|prediction|count|\n",
      "+----------+-----+\n",
      "|         1|   20|\n",
      "|         3|   19|\n",
      "|         5|   41|\n",
      "|         4|   27|\n",
      "|         2|   31|\n",
      "|         0|   40|\n",
      "+----------+-----+\n",
      "\n",
      "+----------+-----+\n",
      "|prediction|count|\n",
      "+----------+-----+\n",
      "|         1|   17|\n",
      "|         6|   24|\n",
      "|         3|   19|\n",
      "|         5|    6|\n",
      "|         4|   31|\n",
      "|         2|   41|\n",
      "|         0|   40|\n",
      "+----------+-----+\n",
      "\n",
      "+----------+-----+\n",
      "|prediction|count|\n",
      "+----------+-----+\n",
      "|         1|    6|\n",
      "|         6|   19|\n",
      "|         3|   24|\n",
      "|         5|   17|\n",
      "|         4|   26|\n",
      "|         7|   29|\n",
      "|         2|   40|\n",
      "|         0|   17|\n",
      "+----------+-----+\n",
      "\n",
      "+----------+-----+\n",
      "|prediction|count|\n",
      "+----------+-----+\n",
      "|         1|    6|\n",
      "|         6|   30|\n",
      "|         3|   24|\n",
      "|         5|   17|\n",
      "|         4|   16|\n",
      "|         8|   16|\n",
      "|         7|   15|\n",
      "|         2|   28|\n",
      "|         0|   26|\n",
      "+----------+-----+\n",
      "\n",
      "+----------+-----+\n",
      "|prediction|count|\n",
      "+----------+-----+\n",
      "|         1|   10|\n",
      "|         6|    6|\n",
      "|         3|   19|\n",
      "|         5|   17|\n",
      "|         9|   23|\n",
      "|         4|   14|\n",
      "|         8|   26|\n",
      "|         7|   16|\n",
      "|         2|   30|\n",
      "|         0|   17|\n",
      "+----------+-----+\n",
      "\n"
     ]
    }
   ],
   "source": [
    "k_values = range(2, 11)\n",
    "\n",
    "# Calculate metrics for pcaFeatures\n",
    "pca_silhouette_scores, pca_wcss_scores = calculate_metrics(result, 'pcaFeatures', k_values)\n",
    "\n",
    "# Calculate metrics for features\n",
    "features_silhouette_scores, features_wcss_scores = calculate_metrics(result, 'features', k_values)"
   ]
  },
  {
   "cell_type": "code",
   "execution_count": 24,
   "id": "7278159b-8153-41b9-8285-6ad50a78e59c",
   "metadata": {},
   "outputs": [
    {
     "data": {
      "image/png": "[encoded data removed]",
      "text/plain": [
       "<Figure size 432x288 with 1 Axes>"
      ]
     },
     "metadata": {
      "needs_background": "light"
     },
     "output_type": "display_data"
    }
   ],
   "source": [
    "# Plotting the Elbow Method curve for pcaFeatures\n",
    "plt.figure()\n",
    "plt.plot(k_values, pca_wcss_scores, marker='o')\n",
    "plt.title(\"Elbow Method for Optimal K (PCA Features)\")\n",
    "plt.xlabel(\"Number of Clusters (K)\")\n",
    "plt.ylabel(\"WCSS Scores\")\n",
    "plt.show()"
   ]
  },
  {
   "cell_type": "code",
   "execution_count": 25,
   "id": "1a65cb2a-d968-4194-b44e-cd9b4174d3f2",
   "metadata": {},
   "outputs": [
    {
     "data": {
      "image/png": "[encoded data removed]",
      "text/plain": [
       "<Figure size 432x288 with 1 Axes>"
      ]
     },
     "metadata": {
      "needs_background": "light"
     },
     "output_type": "display_data"
    }
   ],
   "source": [
    "# Plotting the Silhouette curve for pcaFeatures\n",
    "plt.figure()\n",
    "plt.plot(k_values, pca_silhouette_scores, marker='o')\n",
    "plt.title(\"Silhouette Scores (PCA Features)\")\n",
    "plt.xlabel(\"Number of Clusters (K)\")\n",
    "plt.ylabel(\"Silhouette Scores\")\n",
    "plt.show()"
   ]
  },
  {
   "cell_type": "code",
   "execution_count": 26,
   "id": "8b4d6d2a-e6ab-4681-ba62-fb7aeebbbcde",
   "metadata": {},
   "outputs": [
    {
     "data": {
      "image/png": "[encoded data removed]",
      "text/plain": [
       "<Figure size 432x288 with 1 Axes>"
      ]
     },
     "metadata": {
      "needs_background": "light"
     },
     "output_type": "display_data"
    }
   ],
   "source": [
    "# Plotting the Elbow Method curve for features\n",
    "plt.figure()\n",
    "plt.plot(k_values, features_wcss_scores, marker='o')\n",
    "plt.title(\"Elbow Method for Optimal K (features)\")\n",
    "plt.xlabel(\"Number of Clusters (K)\")\n",
    "plt.ylabel(\"WCSS Scores\")\n",
    "plt.show()"
   ]
  },
  {
   "cell_type": "code",
   "execution_count": 27,
   "id": "0f82bf3e-c585-4043-ba7a-c27175c4eccf",
   "metadata": {},
   "outputs": [
    {
     "data": {
      "image/png": "[encoded data removed]",
      "text/plain": [
       "<Figure size 432x288 with 1 Axes>"
      ]
     },
     "metadata": {
      "needs_background": "light"
     },
     "output_type": "display_data"
    }
   ],
   "source": [
    "# Plotting the Silhouette curve for features\n",
    "plt.figure()\n",
    "plt.plot(k_values, features_silhouette_scores, marker='o')\n",
    "plt.title(\"Silhouette Scores (features)\")\n",
    "plt.xlabel(\"Number of Clusters (K)\")\n",
    "plt.ylabel(\"Silhouette Scores\")\n",
    "plt.show()"
   ]
  },
  {
   "cell_type": "markdown",
   "id": "00b53090-1fa1-456c-9860-4a19e579a21e",
   "metadata": {},
   "source": [
    "# K for pcaFeatures = 3"
   ]
  }
 ],
 "metadata": {
  "kernelspec": {
   "display_name": "Python\n(ds410_f23)",
   "language": "python",
   "name": "ds410_f23"
  },
  "language_info": {
   "codemirror_mode": {
    "name": "ipython",
    "version": 3
   },
   "file_extension": ".py",
   "mimetype": "text/x-python",
   "name": "python",
   "nbconvert_exporter": "python",
   "pygments_lexer": "ipython3",
   "version": "3.8.8"
  }
 },
 "nbformat": 4,
 "nbformat_minor": 5
}
